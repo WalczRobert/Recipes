{
  "nbformat": 4,
  "nbformat_minor": 0,
  "metadata": {
    "colab": {
      "name": "Dataset Conversion for CNN.ipynb",
      "provenance": []
    },
    "kernelspec": {
      "name": "python3",
      "display_name": "Python 3"
    }
  },
  "cells": [
    {
      "cell_type": "markdown",
      "metadata": {
        "id": "1zMq8nZ-1W3X",
        "colab_type": "text"
      },
      "source": [
        "\n",
        "\n",
        "Import Image Data and Convert to Features and Labels\n"
      ]
    },
    {
      "cell_type": "code",
      "metadata": {
        "id": "XQNXlTbG1MnY",
        "colab_type": "code",
        "colab": {}
      },
      "source": [
        "import numpy as np\n",
        "import pandas as pd\n",
        "import matplotlib.pyplot as plt\n",
        "%matplotlib inline\n",
        "import cv2 #pip install opencv-python\n",
        "import os"
      ],
      "execution_count": 0,
      "outputs": []
    },
    {
      "cell_type": "code",
      "metadata": {
        "id": "mWJByOTZ16_P",
        "colab_type": "code",
        "colab": {}
      },
      "source": [
        "DATADIR='/kaggle/input/cats-and-dogs-sentdex-tutorial/kagglecatsanddogs_3367a/PetImages' #this is a directory to your folder of images\n",
        "CATEGORIES=['Cat','Dog'] # each file in your folder should be labled as a category with images of that category inside.\n",
        "\n",
        "IMG_SIZE=500"
      ],
      "execution_count": 0,
      "outputs": []
    },
    {
      "cell_type": "markdown",
      "metadata": {
        "id": "LoUCDD9h2j66",
        "colab_type": "text"
      },
      "source": [
        "Master Folder\n",
        "/Image Folder\n",
        "    /\n",
        "    Cat\n",
        "    | \n",
        "    Dog"
      ]
    },
    {
      "cell_type": "code",
      "metadata": {
        "id": "L3FOxsUk2AMT",
        "colab_type": "code",
        "colab": {}
      },
      "source": [
        "training_data=[]\n",
        "def create_training_data():\n",
        "    for category in CATEGORIES:\n",
        "        path=os.path.join(DATADIR, category)\n",
        "        class_num=CATEGORIES.index(category)\n",
        "        for img in os.listdir(path):\n",
        "            try:\n",
        "                img_array=cv2.imread(os.path.join(path,img), cv2.IMREAD_GRAYSCALE)\n",
        "                new_array=cv2.resize(img_array,(IMG_SIZE,IMG_SIZE))\n",
        "                training_data.append([new_array,class_num])\n",
        "            except Exception as e:\n",
        "                pass\n",
        "create_training_data() "
      ],
      "execution_count": 0,
      "outputs": []
    },
    {
      "cell_type": "code",
      "metadata": {
        "id": "7dd6wYfL2CoT",
        "colab_type": "code",
        "colab": {}
      },
      "source": [
        "import random\n",
        "random.shuffle(training_data)"
      ],
      "execution_count": 0,
      "outputs": []
    },
    {
      "cell_type": "code",
      "metadata": {
        "id": "gDCN9wWM2Eqb",
        "colab_type": "code",
        "colab": {}
      },
      "source": [
        "X=[]\n",
        "y=[]\n",
        "\n",
        "for categories, label in training_data:\n",
        "    X.append(categories)\n",
        "    y.append(label)\n",
        "X= np.array(X).reshape(-1, IMG_SIZE, IMG_SIZE, 1)"
      ],
      "execution_count": 0,
      "outputs": []
    },
    {
      "cell_type": "code",
      "metadata": {
        "id": "AUMfE_-72Hpk",
        "colab_type": "code",
        "colab": {}
      },
      "source": [
        "X.shape\n",
        "\n"
      ],
      "execution_count": 0,
      "outputs": []
    }
  ]
}