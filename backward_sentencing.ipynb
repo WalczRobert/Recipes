{
 "cells": [
  {
   "cell_type": "code",
   "execution_count": 19,
   "metadata": {},
   "outputs": [
    {
     "name": "stdout",
     "output_type": "stream",
     "text": [
      "<class 'str'>\n"
     ]
    }
   ],
   "source": [
    "def rev_sentence(sentence): \n",
    "  \n",
    "    # first split the string into words \n",
    "    words = sentence.split(' ')  \n",
    "  \n",
    "    # then reverse the split string list and join using space \n",
    "    reverse_sentence = ' '.join(reversed(words))  \n",
    "  \n",
    "    # finally return the joined string \n",
    "    return reverse_sentence   \n",
    "  \n",
    "if __name__ == \"__main__\": \n",
    "    input1 = open('C:\\\\Users\\\\rewal\\\\Downloads\\\\NLPtask\\\\Cleaned_Text\\\\combined.txt')\n",
    "    input1 = input1.read()\n",
    "    backtext = rev_sentence(input1)\n",
    "    fileObj = open('C:\\\\Users\\\\rewal\\\\Downloads\\\\NLPtask\\\\Cleaned_Text\\\\backward_combined.txt', \"a\")\n",
    "    print(type(backtext))\n",
    "    fileObj.write(backtext)\n",
    "    fileObj.close\n",
    "  "
   ]
  },
  {
   "cell_type": "code",
   "execution_count": null,
   "metadata": {},
   "outputs": [],
   "source": []
  }
 ],
 "metadata": {
  "kernelspec": {
   "display_name": "Python 3",
   "language": "python",
   "name": "python3"
  },
  "language_info": {
   "codemirror_mode": {
    "name": "ipython",
    "version": 3
   },
   "file_extension": ".py",
   "mimetype": "text/x-python",
   "name": "python",
   "nbconvert_exporter": "python",
   "pygments_lexer": "ipython3",
   "version": "3.7.6"
  }
 },
 "nbformat": 4,
 "nbformat_minor": 4
}
